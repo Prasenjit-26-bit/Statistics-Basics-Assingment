{
  "nbformat": 4,
  "nbformat_minor": 0,
  "metadata": {
    "colab": {
      "provenance": []
    },
    "kernelspec": {
      "name": "python3",
      "display_name": "Python 3"
    },
    "language_info": {
      "name": "python"
    }
  },
  "cells": [
    {
      "cell_type": "markdown",
      "source": [
        "#Statistics Basics\n"
      ],
      "metadata": {
        "id": "YX3iAEWXQlfb"
      }
    },
    {
      "cell_type": "markdown",
      "source": [
        "#Assignment Questions"
      ],
      "metadata": {
        "id": "x2yfn4TEQlcz"
      }
    },
    {
      "cell_type": "markdown",
      "source": [
        "1. What is statistics, and why is it important?\n",
        "- Statistics is the science of collecting, organizing, analyzing, interpreting, and presenting data, and it's important because it helps us understand trends, make informed decisions, and draw meaningful conclusions from data."
      ],
      "metadata": {
        "id": "JDWsx8PxQlZq"
      }
    },
    {
      "cell_type": "markdown",
      "source": [
        "2. What are the two main types of statistics?\n",
        "- The two main types of statistics are descriptive statistics, which summarize and describe data, and inferential statistics, which draw conclusions and make predictions about a population based on a sample."
      ],
      "metadata": {
        "id": "oiBA3ZqZQlWp"
      }
    },
    {
      "cell_type": "markdown",
      "source": [
        "3. What are descriptive statistics?\n",
        "- a set of methods used to summarize and describe the main features of a dataset, such as its central tendency, variability, and distribution."
      ],
      "metadata": {
        "id": "jkYfESv7QlTx"
      }
    },
    {
      "cell_type": "markdown",
      "source": [
        "4. What is inferential statistics?\n",
        "- describe the many ways in which statistics derived from observations on samples from study populations can be used to deduce whether or not those populations are truly different."
      ],
      "metadata": {
        "id": "RBg4pJ1bQlQh"
      }
    },
    {
      "cell_type": "markdown",
      "source": [
        "5. What is sampling in statistics?\n",
        "- selecting a subset (or sample) from a larger group (or population) to estimate characteristics of the entire population"
      ],
      "metadata": {
        "id": "FENP19iTQlLJ"
      }
    },
    {
      "cell_type": "markdown",
      "source": [
        "6. What are the different types of sampling methods?\n",
        "- Sampling methods are broadly categorized into probability (random) and non-probability (non-random) sampling, each with various techniques used to select a representative sample from a larger population."
      ],
      "metadata": {
        "id": "O6yurVl1RlNX"
      }
    },
    {
      "cell_type": "markdown",
      "source": [
        "7. What is the difference between random and non-random sampling?\n",
        "- Random sampling (also known as probability sampling) ensures every member of the population has an equal chance of being selected, while non-random sampling (non-probability sampling) relies on non-random criteria, potentially leading to biased samples"
      ],
      "metadata": {
        "id": "QPRcYBqTRw59"
      }
    },
    {
      "cell_type": "markdown",
      "source": [
        "8. 5 Define and give examples of qualitative and quantitative data?\n",
        "- Quantitative vs Qualitative Data: What's the Difference?Qualitative data describes qualities or characteristics (e.g., colors, opinions), while quantitative data is numerical and measurable (e.g., height, weight)"
      ],
      "metadata": {
        "id": "NXYyNu5JR61X"
      }
    },
    {
      "cell_type": "markdown",
      "source": [
        "9. What are the different types of data in statistics?\n",
        "- In statistics, data is broadly classified as qualitative (categorical) or quantitative (numerical), with further subdivisions: qualitative data includes nominal and ordinal, while quantitative data includes discrete and continuous."
      ],
      "metadata": {
        "id": "QD9DAExKSHJN"
      }
    },
    {
      "cell_type": "markdown",
      "source": [
        "10. Explain nominal, ordinal, interval, and ratio levels of measurement?\n",
        "- The four levels of measurement, from least to most informative, are nominal, ordinal, interval, and ratio: nominal data categorizes, ordinal data categorizes and ranks, interval data categorizes, ranks, and has equal intervals, while ratio data has all these properties plus a true zero point.\n",
        "- Nominal: the data can only be categorized.\n",
        "- Ordinal: the data can be categorized and ranked.\n",
        "- Interval: the data can be categorized, ranked, and evenly spaced.\n",
        "- Ratio: the data can be categorized, ranked, evenly spaced, and has a natural zero."
      ],
      "metadata": {
        "id": "Ck1dBHlNSRdm"
      }
    },
    {
      "cell_type": "markdown",
      "source": [
        "11. What is the measure of central tendency?\n",
        "- Measures of Central Tendency provide a summary measure that attempts to describe a whole set of data with a single value that represents the middle or centre of its distribution. There are three main measures of central tendency: the mean, the median and the mode."
      ],
      "metadata": {
        "id": "s4A-B_mcSwWb"
      }
    },
    {
      "cell_type": "markdown",
      "source": [
        "12.  Define mean, median, and mode?\n",
        "- Mean, median, and mode are three ways to describe the average of a set of numbers. They are all measures of central tendency, which help you find the middle or average of a data set.\n",
        "- Mean: The average of a set of numbers, calculated by adding all the numbers and dividing by the total number of values\n",
        "- Median: The middle value of a set of numbers, found by ordering the numbers from smallest to largest\n",
        "- Mode: The value that occurs most often in a set of numbers"
      ],
      "metadata": {
        "id": "lQLHiVAOS4Er"
      }
    },
    {
      "cell_type": "markdown",
      "source": [
        "13. What is the significance of the measure of central tendency?\n",
        "- Measures of central tendency (like mean, median, and mode) are crucial in statistics because they provide a single, representative value summarizing a dataset, helping to understand the data's central point and making comparisons easier."
      ],
      "metadata": {
        "id": "jDK3Fe3BTGVB"
      }
    },
    {
      "cell_type": "markdown",
      "source": [
        "14. What is variance, and how is it calculated?\n",
        "- Variance, a statistical measure, quantifies how spread out a set of data is from its mean, calculated by averaging the squared differences of each data point from the mean."
      ],
      "metadata": {
        "id": "fBaREz-eTTJm"
      }
    },
    {
      "cell_type": "markdown",
      "source": [
        "15. What is standard deviation, and why is it important?\n",
        "- Standard deviation is a statistical measure that quantifies the amount of variation or dispersion in a dataset, indicating how spread out the data points are from the mean. It's important because it helps us understand the variability of data and assess the consistency of outcomes."
      ],
      "metadata": {
        "id": "wp__cnKpTgEL"
      }
    },
    {
      "cell_type": "markdown",
      "source": [
        "16. Define and explain the term range in statistics?\n",
        "- In statistics, the range is a simple measure of variability, defined as the difference between the highest and lowest values in a dataset."
      ],
      "metadata": {
        "id": "RfnMDpA8TrQu"
      }
    },
    {
      "cell_type": "markdown",
      "source": [
        "17.  What is the difference between variance and standard deviation?\n",
        "- Variance and standard deviation both measure data spread, but standard deviation is the square root of variance and is expressed in the same units as the original data, making it easier to interpret, while variance is in squared units."
      ],
      "metadata": {
        "id": "Yb-yX5AsT3YV"
      }
    },
    {
      "cell_type": "markdown",
      "source": [
        "18. What is skewness in a dataset?\n",
        "- Skewness in a dataset is a measure of the asymmetry or lack of symmetry in the distribution of its data points."
      ],
      "metadata": {
        "id": "3aUIkmzQUGMD"
      }
    },
    {
      "cell_type": "markdown",
      "source": [
        "19. What does it mean if a dataset is positively or negatively skewed?\n",
        "- A positively skewed dataset has a longer tail on the right side, meaning most values cluster towards the lower end and a few high values pull the mean to the right, while a negatively skewed dataset has a longer tail on the left, with most values clustered towards the higher end and a few low values pulling the mean to the left."
      ],
      "metadata": {
        "id": "Dr1LlOt8UPKj"
      }
    },
    {
      "cell_type": "markdown",
      "source": [
        "20. Define and explain kurtosis?\n",
        "- Kurtosis is a measure of the tailedness of a distribution. Tailedness is how often outliers occur. Excess kurtosis is the tailedness of a distribution relative to a normal distribution."
      ],
      "metadata": {
        "id": "ESWngrl8Ueh0"
      }
    },
    {
      "cell_type": "markdown",
      "source": [
        "21. What is the purpose of covariance?\n",
        "- Covariance quantifies the relationship between two random variables, specifically indicating the direction (positive or negative) of their relationship, meaning whether they tend to move in the same or opposite directions."
      ],
      "metadata": {
        "id": "FMBK-CTCUpwR"
      }
    },
    {
      "cell_type": "markdown",
      "source": [
        "22. What does correlation measure in statistics?\n",
        "- In statistics, correlation measures the strength and direction of the relationship between two variables, indicating whether they tend to move together (positive correlation), in opposite directions (negative correlation), or not at all (no correlation)."
      ],
      "metadata": {
        "id": "AK_FQPREUytJ"
      }
    },
    {
      "cell_type": "markdown",
      "source": [
        "23. What is the difference between covariance and correlation?\n",
        "- Covariance indicates the direction of the relationship between two variables, while correlation measures both the strength and direction of that relationship, with correlation values standardized to a range of -1 to +1."
      ],
      "metadata": {
        "id": "qq2pHdj0U_po"
      }
    },
    {
      "cell_type": "markdown",
      "source": [
        "24. What are some real-world applications of statistics?\n",
        "- Statistics have a wide range of real-world applications, from understanding market trends and evaluating public policies to analyzing medical data and predicting election outcomes, impacting fields like business, healthcare, education, and government."
      ],
      "metadata": {
        "id": "Bjn3tJFQVJKn"
      }
    },
    {
      "cell_type": "markdown",
      "source": [
        "#Practical"
      ],
      "metadata": {
        "id": "yFSr5_n4VTsS"
      }
    },
    {
      "cell_type": "code",
      "source": [
        "# 1. How do you calculate the mean, median, and mode of a dataset?\n",
        "\n",
        "import statistics\n",
        "dataset = [1, 2, 3, 4, 5, 6, 7, 8, 9, 10]\n",
        "mean = statistics.mean(dataset)\n",
        "median = statistics.median(dataset)\n",
        "mode = statistics.mode(dataset)\n",
        "print(f\"Mean: {mean}\")\n",
        "print(f\"Median: {median}\")\n",
        "print(f\"Mode: {mode}\")"
      ],
      "metadata": {
        "colab": {
          "base_uri": "https://localhost:8080/"
        },
        "id": "73IX6RQXVYbX",
        "outputId": "e3f09d7d-ed95-4f30-b138-17e2f780b202"
      },
      "execution_count": 1,
      "outputs": [
        {
          "output_type": "stream",
          "name": "stdout",
          "text": [
            "Mean: 5.5\n",
            "Median: 5.5\n",
            "Mode: 1\n"
          ]
        }
      ]
    },
    {
      "cell_type": "code",
      "source": [
        "# 2. Write a Python program to compute the variance and standard deviation of a dataset.\n",
        "\n",
        "import statistics\n",
        "dataset = [1, 2, 3, 4, 5, 6, 7, 8, 9, 10]\n",
        "variance = statistics.variance(dataset)\n",
        "standard_deviation = statistics.stdev(dataset)"
      ],
      "metadata": {
        "id": "0Bw1NWnr7cVn"
      },
      "execution_count": 2,
      "outputs": []
    },
    {
      "cell_type": "code",
      "source": [
        "# 3. Create a dataset and classify it into nominal, ordinal, interval, and ratio types.\n",
        "\n",
        "import seaborn as sns\n",
        "\n",
        "dataset = sns.load_dataset(\"penguins\").dropna().head(5)\n",
        "\n",
        "\n",
        "data_types = {\n",
        "    \"Nominal\": [\"species\", \"island\", \"sex\"],\n",
        "    \"Ordinal\": [],\n",
        "    \"Interval\": [],\n",
        "    \"Ratio\": [\"bill_length_mm\", \"bill_depth_mm\", \"flipper_length_mm\", \"body_mass_g\"]\n",
        "}\n",
        "\n",
        "print(\"\\nClassification of Data Types:\\n\")\n",
        "for category, attributes in data_types.items():\n",
        "    print(f\"{category}: {', '.join(attributes)}\")\n",
        "\n",
        "print(\"\\nDataset:\")\n",
        "print(dataset)\n"
      ],
      "metadata": {
        "colab": {
          "base_uri": "https://localhost:8080/"
        },
        "id": "S9O6av4r7lVV",
        "outputId": "94bef1bf-ec44-48a2-a91c-59426e0d8954"
      },
      "execution_count": 6,
      "outputs": [
        {
          "output_type": "stream",
          "name": "stdout",
          "text": [
            "\n",
            "Classification of Data Types:\n",
            "\n",
            "Nominal: species, island, sex\n",
            "Ordinal: \n",
            "Interval: \n",
            "Ratio: bill_length_mm, bill_depth_mm, flipper_length_mm, body_mass_g\n",
            "\n",
            "Dataset:\n",
            "  species     island  bill_length_mm  bill_depth_mm  flipper_length_mm  \\\n",
            "0  Adelie  Torgersen            39.1           18.7              181.0   \n",
            "1  Adelie  Torgersen            39.5           17.4              186.0   \n",
            "2  Adelie  Torgersen            40.3           18.0              195.0   \n",
            "4  Adelie  Torgersen            36.7           19.3              193.0   \n",
            "5  Adelie  Torgersen            39.3           20.6              190.0   \n",
            "\n",
            "   body_mass_g     sex  \n",
            "0       3750.0    Male  \n",
            "1       3800.0  Female  \n",
            "2       3250.0  Female  \n",
            "4       3450.0  Female  \n",
            "5       3650.0    Male  \n"
          ]
        }
      ]
    },
    {
      "cell_type": "code",
      "source": [
        "# 4. Implement sampling techniques like random sampling and stratified sampling.\n",
        "\n",
        "import seaborn as sns\n",
        "from sklearn.model_selection import train_test_split\n",
        "\n",
        "dataset = sns.load_dataset(\"penguins\").dropna().head(50)\n",
        "\n",
        "random_sample = dataset.sample(10, random_state=42)\n",
        "stratified_sample, _ = train_test_split(dataset, test_size=0.8, stratify=dataset['species'], random_state=42)\n",
        "\n",
        "print(\"\\nRandom Sampling (10 Samples):\\n\", random_sample)\n",
        "print(\"\\nStratified Sampling (20% of each species):\\n\", stratified_sample)\n"
      ],
      "metadata": {
        "colab": {
          "base_uri": "https://localhost:8080/"
        },
        "id": "wjdf9c_79W3n",
        "outputId": "d5ccc96e-b662-4ec8-e1ac-4cbedb856d58"
      },
      "execution_count": 10,
      "outputs": [
        {
          "output_type": "stream",
          "name": "stdout",
          "text": [
            "\n",
            "Random Sampling (10 Samples):\n",
            "    species     island  bill_length_mm  bill_depth_mm  flipper_length_mm  \\\n",
            "18  Adelie  Torgersen            34.4           18.4              184.0   \n",
            "44  Adelie      Dream            37.0           16.9              185.0   \n",
            "35  Adelie      Dream            39.2           21.1              196.0   \n",
            "51  Adelie     Biscoe            40.1           18.9              188.0   \n",
            "22  Adelie     Biscoe            35.9           19.2              189.0   \n",
            "54  Adelie     Biscoe            34.5           18.1              187.0   \n",
            "31  Adelie      Dream            37.2           18.1              178.0   \n",
            "30  Adelie      Dream            39.5           16.7              178.0   \n",
            "37  Adelie      Dream            42.2           18.5              180.0   \n",
            "24  Adelie     Biscoe            38.8           17.2              180.0   \n",
            "\n",
            "    body_mass_g     sex  \n",
            "18       3325.0  Female  \n",
            "44       3000.0  Female  \n",
            "35       4150.0    Male  \n",
            "51       4300.0    Male  \n",
            "22       3800.0  Female  \n",
            "54       2900.0  Female  \n",
            "31       3900.0    Male  \n",
            "30       3250.0  Female  \n",
            "37       3550.0  Female  \n",
            "24       3800.0    Male  \n",
            "\n",
            "Stratified Sampling (20% of each species):\n",
            "    species     island  bill_length_mm  bill_depth_mm  flipper_length_mm  \\\n",
            "18  Adelie  Torgersen            34.4           18.4              184.0   \n",
            "54  Adelie     Biscoe            34.5           18.1              187.0   \n",
            "35  Adelie      Dream            39.2           21.1              196.0   \n",
            "31  Adelie      Dream            37.2           18.1              178.0   \n",
            "51  Adelie     Biscoe            40.1           18.9              188.0   \n",
            "30  Adelie      Dream            39.5           16.7              178.0   \n",
            "22  Adelie     Biscoe            35.9           19.2              189.0   \n",
            "44  Adelie      Dream            37.0           16.9              185.0   \n",
            "37  Adelie      Dream            42.2           18.5              180.0   \n",
            "24  Adelie     Biscoe            38.8           17.2              180.0   \n",
            "\n",
            "    body_mass_g     sex  \n",
            "18       3325.0  Female  \n",
            "54       2900.0  Female  \n",
            "35       4150.0    Male  \n",
            "31       3900.0    Male  \n",
            "51       4300.0    Male  \n",
            "30       3250.0  Female  \n",
            "22       3800.0  Female  \n",
            "44       3000.0  Female  \n",
            "37       3550.0  Female  \n",
            "24       3800.0    Male  \n"
          ]
        }
      ]
    },
    {
      "cell_type": "code",
      "source": [
        "# 5. Write a Python function to calculate the range of a dataset.\n",
        "\n",
        "import seaborn as sns\n",
        "from sklearn.model_selection import train_test_split\n",
        "\n",
        "def calculate_range(data): return max(data) - min(data)\n",
        "\n",
        "dataset = sns.load_dataset(\"penguins\").dropna().head(50)\n",
        "\n",
        "print(\"\\nRandom Sampling (10 Samples):\\n\", dataset.sample(10, random_state=42))\n",
        "print(\"\\nStratified Sampling (20% of each species):\\n\", train_test_split(dataset, test_size=0.8, stratify=dataset['species'], random_state=42)[0])\n",
        "print(\"\\nRange of bill_length_mm:\", calculate_range(dataset['bill_length_mm']))\n"
      ],
      "metadata": {
        "colab": {
          "base_uri": "https://localhost:8080/"
        },
        "id": "w6nF8upZA-DO",
        "outputId": "78e95145-263a-40c9-c157-bea4a34701e1"
      },
      "execution_count": 14,
      "outputs": [
        {
          "output_type": "stream",
          "name": "stdout",
          "text": [
            "\n",
            "Random Sampling (10 Samples):\n",
            "    species     island  bill_length_mm  bill_depth_mm  flipper_length_mm  \\\n",
            "18  Adelie  Torgersen            34.4           18.4              184.0   \n",
            "44  Adelie      Dream            37.0           16.9              185.0   \n",
            "35  Adelie      Dream            39.2           21.1              196.0   \n",
            "51  Adelie     Biscoe            40.1           18.9              188.0   \n",
            "22  Adelie     Biscoe            35.9           19.2              189.0   \n",
            "54  Adelie     Biscoe            34.5           18.1              187.0   \n",
            "31  Adelie      Dream            37.2           18.1              178.0   \n",
            "30  Adelie      Dream            39.5           16.7              178.0   \n",
            "37  Adelie      Dream            42.2           18.5              180.0   \n",
            "24  Adelie     Biscoe            38.8           17.2              180.0   \n",
            "\n",
            "    body_mass_g     sex  \n",
            "18       3325.0  Female  \n",
            "44       3000.0  Female  \n",
            "35       4150.0    Male  \n",
            "51       4300.0    Male  \n",
            "22       3800.0  Female  \n",
            "54       2900.0  Female  \n",
            "31       3900.0    Male  \n",
            "30       3250.0  Female  \n",
            "37       3550.0  Female  \n",
            "24       3800.0    Male  \n",
            "\n",
            "Stratified Sampling (20% of each species):\n",
            "    species     island  bill_length_mm  bill_depth_mm  flipper_length_mm  \\\n",
            "18  Adelie  Torgersen            34.4           18.4              184.0   \n",
            "54  Adelie     Biscoe            34.5           18.1              187.0   \n",
            "35  Adelie      Dream            39.2           21.1              196.0   \n",
            "31  Adelie      Dream            37.2           18.1              178.0   \n",
            "51  Adelie     Biscoe            40.1           18.9              188.0   \n",
            "30  Adelie      Dream            39.5           16.7              178.0   \n",
            "22  Adelie     Biscoe            35.9           19.2              189.0   \n",
            "44  Adelie      Dream            37.0           16.9              185.0   \n",
            "37  Adelie      Dream            42.2           18.5              180.0   \n",
            "24  Adelie     Biscoe            38.8           17.2              180.0   \n",
            "\n",
            "    body_mass_g     sex  \n",
            "18       3325.0  Female  \n",
            "54       2900.0  Female  \n",
            "35       4150.0    Male  \n",
            "31       3900.0    Male  \n",
            "51       4300.0    Male  \n",
            "30       3250.0  Female  \n",
            "22       3800.0  Female  \n",
            "44       3000.0  Female  \n",
            "37       3550.0  Female  \n",
            "24       3800.0    Male  \n",
            "\n",
            "Range of bill_length_mm: 11.600000000000001\n"
          ]
        }
      ]
    },
    {
      "cell_type": "code",
      "source": [
        "# 6. Create a dataset and plot its histogram to visualize skewness.\n",
        "\n",
        "import seaborn as sns\n",
        "import matplotlib.pyplot as plt\n",
        "\n",
        "dataset = sns.load_dataset(\"penguins\").dropna().head(50)\n",
        "\n",
        "plt.figure(figsize=(10, 6))\n",
        "sns.histplot(dataset['bill_length_mm'], kde=True)"
      ],
      "metadata": {
        "colab": {
          "base_uri": "https://localhost:8080/",
          "height": 559
        },
        "id": "B43viTT2BKgr",
        "outputId": "2d55f6e8-a02e-4ce7-e5ea-0d4d43bf52b8"
      },
      "execution_count": 16,
      "outputs": [
        {
          "output_type": "execute_result",
          "data": {
            "text/plain": [
              "<Axes: xlabel='bill_length_mm', ylabel='Count'>"
            ]
          },
          "metadata": {},
          "execution_count": 16
        },
        {
          "output_type": "display_data",
          "data": {
            "text/plain": [
              "<Figure size 1000x600 with 1 Axes>"
            ],
            "image/png": "[encoded data removed]"
          },
          "metadata": {}
        }
      ]
    },
    {
      "cell_type": "code",
      "source": [
        "# 7. Calculate skewness and kurtosis of a dataset using Python libraries.\n",
        "\n",
        "import seaborn as sns\n",
        "import matplotlib.pyplot as plt\n",
        "\n",
        "dataset = sns.load_dataset(\"penguins\").dropna().head(50)\n",
        "\n",
        "print(\"\\nSkewness:\", dataset['bill_length_mm'].skew())"
      ],
      "metadata": {
        "colab": {
          "base_uri": "https://localhost:8080/"
        },
        "id": "QiLWf2hZB0Tw",
        "outputId": "5234e60c-03c3-4f53-cfd0-8450c47dbcec"
      },
      "execution_count": 17,
      "outputs": [
        {
          "output_type": "stream",
          "name": "stdout",
          "text": [
            "\n",
            "Skewness: 0.26894626306413427\n"
          ]
        }
      ]
    },
    {
      "cell_type": "code",
      "source": [
        "# 8. Generate a dataset and demonstrate positive and negative skewness.\n",
        "\n",
        "import seaborn as sns\n",
        "import matplotlib.pyplot as plt\n",
        "\n",
        "dataset = sns.load_dataset(\"penguins\").dropna().head(50)\n",
        "\n",
        "plt.figure(figsize=(10, 6))\n",
        "sns.histplot(dataset['bill_length_mm'], kde=True)"
      ],
      "metadata": {
        "colab": {
          "base_uri": "https://localhost:8080/",
          "height": 559
        },
        "id": "1B16P9c_B7m4",
        "outputId": "608c22b4-2b64-4b1c-b925-7929e209c387"
      },
      "execution_count": 18,
      "outputs": [
        {
          "output_type": "execute_result",
          "data": {
            "text/plain": [
              "<Axes: xlabel='bill_length_mm', ylabel='Count'>"
            ]
          },
          "metadata": {},
          "execution_count": 18
        },
        {
          "output_type": "display_data",
          "data": {
            "text/plain": [
              "<Figure size 1000x600 with 1 Axes>"
            ],
            "image/png": "[encoded data removed]"
          },
          "metadata": {}
        }
      ]
    },
    {
      "cell_type": "code",
      "source": [
        "# 9. Write a Python script to calculate covariance between two datasets.\n",
        "\n",
        "import seaborn as sns\n",
        "import numpy as np\n",
        "\n",
        "dataset = sns.load_dataset(\"penguins\").dropna().head(50)\n",
        "\n",
        "def calculate_covariance(x, y):\n",
        "    return np.cov(x, y, bias=True)[0][1]\n",
        "\n",
        "covariance = calculate_covariance(dataset['bill_length_mm'], dataset['bill_depth_mm'])\n",
        "print(\"Covariance between bill_length_mm and bill_depth_mm:\", covariance)"
      ],
      "metadata": {
        "colab": {
          "base_uri": "https://localhost:8080/"
        },
        "id": "KENSUCGECBy-",
        "outputId": "8af68c3f-18a8-4785-d5b2-397e8864b44b"
      },
      "execution_count": 19,
      "outputs": [
        {
          "output_type": "stream",
          "name": "stdout",
          "text": [
            "Covariance between bill_length_mm and bill_depth_mm: 0.9086160000000003\n"
          ]
        }
      ]
    },
    {
      "cell_type": "code",
      "source": [
        "# 10. Write a Python script to calculate the correlation coefficient between two datasets.\n",
        "\n",
        "import seaborn as sns\n",
        "import numpy as np\n",
        "\n",
        "dataset = sns.load_dataset(\"penguins\").dropna().head(50)\n",
        "\n",
        "def calculate_correlation(x, y):\n",
        "    return np.corrcoef(x, y)[0][1]\n",
        "\n",
        "correlation = calculate_correlation(dataset['bill_length_mm'], dataset['bill_depth_mm'])\n",
        "print(\"Correlation coefficient between bill_length_mm and bill_depth_mm:\", correlation)\n"
      ],
      "metadata": {
        "colab": {
          "base_uri": "https://localhost:8080/"
        },
        "id": "yzjOYbmCCnna",
        "outputId": "3f4cdb62-3735-4638-d71d-940f72e9238f"
      },
      "execution_count": 20,
      "outputs": [
        {
          "output_type": "stream",
          "name": "stdout",
          "text": [
            "Correlation coefficient between bill_length_mm and bill_depth_mm: 0.3143453794843443\n"
          ]
        }
      ]
    },
    {
      "cell_type": "code",
      "source": [
        "# 11. Create a scatter plot to visualize the relationship between two variables.\n",
        "\n",
        "import seaborn as sns\n",
        "import matplotlib.pyplot as plt\n",
        "\n",
        "dataset = sns.load_dataset(\"penguins\").dropna().head(50)\n",
        "plt.figure(figsize=(10, 6))\n",
        "sns.scatterplot(data=dataset, x='bill_length_mm', y='bill_depth_mm')"
      ],
      "metadata": {
        "colab": {
          "base_uri": "https://localhost:8080/",
          "height": 559
        },
        "id": "nl48Nv5XC5dL",
        "outputId": "3fc2a661-a8ce-4531-b8bb-ca3b0c8b9419"
      },
      "execution_count": 21,
      "outputs": [
        {
          "output_type": "execute_result",
          "data": {
            "text/plain": [
              "<Axes: xlabel='bill_length_mm', ylabel='bill_depth_mm'>"
            ]
          },
          "metadata": {},
          "execution_count": 21
        },
        {
          "output_type": "display_data",
          "data": {
            "text/plain": [
              "<Figure size 1000x600 with 1 Axes>"
            ],
            "image/png": "[encoded data removed]"
          },
          "metadata": {}
        }
      ]
    },
    {
      "cell_type": "code",
      "source": [
        "# 12. Implement and compare simple random sampling and systematic sampling.\n",
        "\n",
        "import seaborn as sns\n",
        "\n",
        "dataset = sns.load_dataset(\"penguins\").dropna().head(50)\n",
        "\n",
        "print(\"\\nSimple Random Sampling (10 Samples):\\n\", dataset.sample(10, random_state=42))\n",
        "print(\"\\nSystematic Sampling (10 Samples):\\n\", dataset.iloc[::len(dataset)//10])\n"
      ],
      "metadata": {
        "colab": {
          "base_uri": "https://localhost:8080/"
        },
        "id": "VxeX0iDhDJzm",
        "outputId": "35829ea3-958e-484f-9ec6-8579fdab76ae"
      },
      "execution_count": 22,
      "outputs": [
        {
          "output_type": "stream",
          "name": "stdout",
          "text": [
            "\n",
            "Simple Random Sampling (10 Samples):\n",
            "    species     island  bill_length_mm  bill_depth_mm  flipper_length_mm  \\\n",
            "18  Adelie  Torgersen            34.4           18.4              184.0   \n",
            "44  Adelie      Dream            37.0           16.9              185.0   \n",
            "35  Adelie      Dream            39.2           21.1              196.0   \n",
            "51  Adelie     Biscoe            40.1           18.9              188.0   \n",
            "22  Adelie     Biscoe            35.9           19.2              189.0   \n",
            "54  Adelie     Biscoe            34.5           18.1              187.0   \n",
            "31  Adelie      Dream            37.2           18.1              178.0   \n",
            "30  Adelie      Dream            39.5           16.7              178.0   \n",
            "37  Adelie      Dream            42.2           18.5              180.0   \n",
            "24  Adelie     Biscoe            38.8           17.2              180.0   \n",
            "\n",
            "    body_mass_g     sex  \n",
            "18       3325.0  Female  \n",
            "44       3000.0  Female  \n",
            "35       4150.0    Male  \n",
            "51       4300.0    Male  \n",
            "22       3800.0  Female  \n",
            "54       2900.0  Female  \n",
            "31       3900.0    Male  \n",
            "30       3250.0  Female  \n",
            "37       3550.0  Female  \n",
            "24       3800.0    Male  \n",
            "\n",
            "Systematic Sampling (10 Samples):\n",
            "    species     island  bill_length_mm  bill_depth_mm  flipper_length_mm  \\\n",
            "0   Adelie  Torgersen            39.1           18.7              181.0   \n",
            "6   Adelie  Torgersen            38.9           17.8              181.0   \n",
            "15  Adelie  Torgersen            36.6           17.8              185.0   \n",
            "20  Adelie     Biscoe            37.8           18.3              174.0   \n",
            "25  Adelie     Biscoe            35.3           18.9              187.0   \n",
            "30  Adelie      Dream            39.5           16.7              178.0   \n",
            "35  Adelie      Dream            39.2           21.1              196.0   \n",
            "40  Adelie      Dream            36.5           18.0              182.0   \n",
            "45  Adelie      Dream            39.6           18.8              190.0   \n",
            "51  Adelie     Biscoe            40.1           18.9              188.0   \n",
            "\n",
            "    body_mass_g     sex  \n",
            "0        3750.0    Male  \n",
            "6        3625.0  Female  \n",
            "15       3700.0  Female  \n",
            "20       3400.0  Female  \n",
            "25       3800.0  Female  \n",
            "30       3250.0  Female  \n",
            "35       4150.0    Male  \n",
            "40       3150.0  Female  \n",
            "45       4600.0    Male  \n",
            "51       4300.0    Male  \n"
          ]
        }
      ]
    },
    {
      "cell_type": "code",
      "source": [
        "# 13. Calculate the mean, median, and mode of grouped data.\n",
        "\n",
        "import seaborn as sns\n",
        "\n",
        "dataset = sns.load_dataset(\"penguins\").dropna().head(50)\n",
        "\n",
        "print(\"\\nMean of bill_length_mm:\", dataset['bill_length_mm'].mean())\n",
        "print(\"\\nMedian of bill_length_mm:\", dataset['bill_length_mm'].median())\n",
        "print(\"\\nMode of bill_length_mm:\", dataset['bill_length_mm'].mode())"
      ],
      "metadata": {
        "colab": {
          "base_uri": "https://localhost:8080/"
        },
        "id": "fUZIVh40DfRO",
        "outputId": "867e3b1c-e8c2-4bee-ec45-cb9237d2737c"
      },
      "execution_count": 24,
      "outputs": [
        {
          "output_type": "stream",
          "name": "stdout",
          "text": [
            "\n",
            "Mean of bill_length_mm: 38.916000000000004\n",
            "\n",
            "Median of bill_length_mm: 39.150000000000006\n",
            "\n",
            "Mode of bill_length_mm: 0    39.5\n",
            "Name: bill_length_mm, dtype: float64\n"
          ]
        }
      ]
    },
    {
      "cell_type": "code",
      "source": [
        "# 14.Simulate data using Python and calculate its central tendency and dispersion.\n",
        "\n",
        "import numpy as np\n",
        "import pandas as pd\n",
        "\n",
        "data = np.random.randint(50, 100, 50)\n",
        "\n",
        "mean = np.mean(data)\n",
        "median = np.median(data)\n",
        "mode = pd.Series(data).mode()[0]\n",
        "\n",
        "variance = np.var(data)\n",
        "std_dev = np.std(data)\n",
        "range_val = np.ptp(data)\n",
        "\n",
        "print(f\"Mean: {mean}, Median: {median}, Mode: {mode}\")\n",
        "print(f\"Variance: {variance}, Standard Deviation: {std_dev}, Range: {range_val}\")\n"
      ],
      "metadata": {
        "colab": {
          "base_uri": "https://localhost:8080/"
        },
        "id": "7iK21w34DsvE",
        "outputId": "1b4fd655-1ea1-4d95-c9b3-9472a91fe9b1"
      },
      "execution_count": 25,
      "outputs": [
        {
          "output_type": "stream",
          "name": "stdout",
          "text": [
            "Mean: 76.62, Median: 76.0, Mode: 50\n",
            "Variance: 242.79559999999998, Standard Deviation: 15.581899755806413, Range: 49\n"
          ]
        }
      ]
    },
    {
      "cell_type": "code",
      "source": [
        "# 15. Use NumPy or pandas to summarize a dataset’s descriptive statistics.\n",
        "\n",
        "import numpy as np\n",
        "import pandas as pd\n",
        "\n",
        "data = np.random.randint(50, 100, 50)\n",
        "df = pd.DataFrame(data, columns=['Values'])\n",
        "\n",
        "print(df.describe())\n"
      ],
      "metadata": {
        "colab": {
          "base_uri": "https://localhost:8080/"
        },
        "id": "r_-tPAIdEBfx",
        "outputId": "f47692e2-00f5-4baa-a4c6-6fc1f224f1be"
      },
      "execution_count": 26,
      "outputs": [
        {
          "output_type": "stream",
          "name": "stdout",
          "text": [
            "          Values\n",
            "count  50.000000\n",
            "mean   75.420000\n",
            "std    15.570891\n",
            "min    50.000000\n",
            "25%    59.000000\n",
            "50%    79.000000\n",
            "75%    87.000000\n",
            "max    99.000000\n"
          ]
        }
      ]
    },
    {
      "cell_type": "code",
      "source": [
        "# 16. Plot a boxplot to understand the spread and identify outliers.\n",
        "\n",
        "import numpy as np\n",
        "import pandas as pd\n",
        "import matplotlib.pyplot as plt\n",
        "\n",
        "data = np.random.randint(50, 100, 50)\n",
        "df = pd.DataFrame(data, columns=['Values'])\n",
        "df.plot(kind='box')\n",
        "plt.show()"
      ],
      "metadata": {
        "colab": {
          "base_uri": "https://localhost:8080/",
          "height": 430
        },
        "id": "r6HGRVhmEY97",
        "outputId": "8044c5ce-01e1-4d09-c52d-e85f33019be2"
      },
      "execution_count": 28,
      "outputs": [
        {
          "output_type": "display_data",
          "data": {
            "text/plain": [
              "<Figure size 640x480 with 1 Axes>"
            ],
            "image/png": "[encoded data removed]"
          },
          "metadata": {}
        }
      ]
    },
    {
      "cell_type": "code",
      "source": [
        "# 17. Calculate the interquartile range (IQR) of a dataset.\n",
        "\n",
        "import numpy as np\n",
        "import pandas as pd\n",
        "\n",
        "data = np.random.randint(50, 100, 50)\n",
        "df = pd.DataFrame(data, columns=['Values'])\n",
        "\n",
        "q1 = np.percentile(data, 25)\n",
        "q3 = np.percentile(data, 75)\n",
        "iqr = q3 - q1\n",
        "\n",
        "print(df.describe())\n",
        "print(f\"Interquartile Range (IQR): {iqr}\")"
      ],
      "metadata": {
        "colab": {
          "base_uri": "https://localhost:8080/"
        },
        "id": "azxAgsF6Ed8j",
        "outputId": "1efaabfc-ce68-4d20-d476-1f5054a7e6db"
      },
      "execution_count": 29,
      "outputs": [
        {
          "output_type": "stream",
          "name": "stdout",
          "text": [
            "          Values\n",
            "count  50.000000\n",
            "mean   73.980000\n",
            "std    15.144865\n",
            "min    50.000000\n",
            "25%    62.000000\n",
            "50%    70.000000\n",
            "75%    88.750000\n",
            "max    98.000000\n",
            "Interquartile Range (IQR): 26.75\n"
          ]
        }
      ]
    },
    {
      "cell_type": "code",
      "source": [
        "# 18. Implement Z-score normalization and explain its significance.\n",
        "\n",
        "import numpy as np\n",
        "import pandas as pd\n",
        "\n",
        "data = np.random.randint(50, 100, 50)\n",
        "df = pd.DataFrame(data, columns=['Values'])\n",
        "\n",
        "z_score_normalized = (df - df.mean()) / df.std()\n",
        "\n",
        "print(\"Original Data Statistics:\\n\", df.describe())\n",
        "print(\"\\nZ-score Normalized Data:\\n\", z_score_normalized.head())\n",
        "\n"
      ],
      "metadata": {
        "colab": {
          "base_uri": "https://localhost:8080/"
        },
        "id": "wiiVszVTFGYW",
        "outputId": "4c89c4ed-9046-4282-fed4-003a4bdd7bdc"
      },
      "execution_count": 30,
      "outputs": [
        {
          "output_type": "stream",
          "name": "stdout",
          "text": [
            "Original Data Statistics:\n",
            "           Values\n",
            "count  50.000000\n",
            "mean   72.360000\n",
            "std    15.174845\n",
            "min    50.000000\n",
            "25%    60.000000\n",
            "50%    68.000000\n",
            "75%    87.000000\n",
            "max    99.000000\n",
            "\n",
            "Z-score Normalized Data:\n",
            "      Values\n",
            "0 -0.023723\n",
            "1 -1.078100\n",
            "2  0.635262\n",
            "3 -0.682709\n",
            "4 -0.814506\n"
          ]
        }
      ]
    },
    {
      "cell_type": "code",
      "source": [
        "# 19. Compare two datasets using their standard deviations.\n",
        "\n",
        "import numpy as np\n",
        "import pandas as pd\n",
        "\n",
        "data1 = np.random.randint(50, 100, 50)\n",
        "data2 = np.random.randint(30, 120, 50)\n",
        "\n",
        "df1 = pd.DataFrame(data1, columns=['Dataset 1'])\n",
        "df2 = pd.DataFrame(data2, columns=['Dataset 2'])\n",
        "\n",
        "std1 = df1.std()[0]\n",
        "std2 = df2.std()[0]\n",
        "\n",
        "print(\"Standard Deviation of Dataset 1:\", std1)\n",
        "print(\"Standard Deviation of Dataset 2:\", std2)\n",
        "\n",
        "if std1 > std2:\n",
        "    print(\"Dataset 1 has higher variability.\")\n",
        "elif std1 < std2:\n",
        "    print(\"Dataset 2 has higher variability.\")\n",
        "else:\n",
        "    print(\"Both datasets have equal variability.\")"
      ],
      "metadata": {
        "colab": {
          "base_uri": "https://localhost:8080/"
        },
        "id": "Vja1HvsNGBq2",
        "outputId": "8306feee-fc3f-4101-ea21-d8521c3675d2"
      },
      "execution_count": 31,
      "outputs": [
        {
          "output_type": "stream",
          "name": "stdout",
          "text": [
            "Standard Deviation of Dataset 1: 14.64163757987501\n",
            "Standard Deviation of Dataset 2: 26.779713613563715\n",
            "Dataset 2 has higher variability.\n"
          ]
        },
        {
          "output_type": "stream",
          "name": "stderr",
          "text": [
            "<ipython-input-31-c9f8a7083fb4>:12: FutureWarning: Series.__getitem__ treating keys as positions is deprecated. In a future version, integer keys will always be treated as labels (consistent with DataFrame behavior). To access a value by position, use `ser.iloc[pos]`\n",
            "  std1 = df1.std()[0]\n",
            "<ipython-input-31-c9f8a7083fb4>:13: FutureWarning: Series.__getitem__ treating keys as positions is deprecated. In a future version, integer keys will always be treated as labels (consistent with DataFrame behavior). To access a value by position, use `ser.iloc[pos]`\n",
            "  std2 = df2.std()[0]\n"
          ]
        }
      ]
    },
    {
      "cell_type": "code",
      "source": [
        "# 20. Write a Python program to visualize covariance using a heatmap.\n",
        "\n",
        "import numpy as np\n",
        "import pandas as pd\n",
        "import seaborn as sns\n",
        "import matplotlib.pyplot as plt\n",
        "\n",
        "data1 = np.random.randint(50, 100, 50)\n",
        "data2 = np.random.randint(30, 120, 50)\n",
        "\n",
        "df = pd.DataFrame({'Dataset 1': data1, 'Dataset 2': data2})\n",
        "\n",
        "cov_matrix = df.cov()\n",
        "\n",
        "plt.figure(figsize=(5, 4))\n",
        "sns.heatmap(cov_matrix, annot=True, cmap='coolwarm', fmt='.2f')\n",
        "plt.title('Covariance Heatmap')\n",
        "plt.show()"
      ],
      "metadata": {
        "colab": {
          "base_uri": "https://localhost:8080/",
          "height": 391
        },
        "id": "Jli248VpGQzx",
        "outputId": "2ec35067-3b5e-471d-80ef-7a8f179e5a0f"
      },
      "execution_count": 32,
      "outputs": [
        {
          "output_type": "display_data",
          "data": {
            "text/plain": [
              "<Figure size 500x400 with 2 Axes>"
            ],
            "image/png": "[encoded data removed]"
          },
          "metadata": {}
        }
      ]
    },
    {
      "cell_type": "code",
      "source": [
        "# 21. Use seaborn to create a correlation matrix for a dataset.\n",
        "\n",
        "import numpy as np\n",
        "import pandas as pd\n",
        "import seaborn as sns\n",
        "import matplotlib.pyplot as plt\n",
        "\n",
        "data1 = np.random.randint(50, 100, 50)\n",
        "data2 = np.random.randint(30, 120, 50)\n",
        "data3 = np.random.randint(10, 90, 50)\n",
        "\n",
        "df = pd.DataFrame({'Dataset 1': data1, 'Dataset 2': data2, 'Dataset 3': data3})\n",
        "\n",
        "correlation_matrix = df.corr()\n",
        "\n",
        "plt.figure(figsize=(5, 4))\n",
        "sns.heatmap(correlation_matrix, annot=True, cmap='coolwarm', fmt='.2f')\n",
        "plt.title('Correlation Matrix Heatmap')\n",
        "plt.show()\n"
      ],
      "metadata": {
        "colab": {
          "base_uri": "https://localhost:8080/",
          "height": 391
        },
        "id": "JIfKIPpgGaUr",
        "outputId": "a645653e-7972-43e5-b444-ba198508c520"
      },
      "execution_count": 33,
      "outputs": [
        {
          "output_type": "display_data",
          "data": {
            "text/plain": [
              "<Figure size 500x400 with 2 Axes>"
            ],
            "image/png": "[encoded data removed]"
          },
          "metadata": {}
        }
      ]
    },
    {
      "cell_type": "code",
      "source": [
        "# 22. Generate a dataset and implement both variance and standard deviation computations.\n",
        "\n",
        "import numpy as np\n",
        "import pandas as pd\n",
        "\n",
        "data = np.random.randint(50, 100, 50)\n",
        "df = pd.DataFrame(data, columns=['Values'])\n",
        "\n",
        "variance = df.var()[0]\n",
        "std_dev = df.std()[0]\n",
        "\n",
        "print(\"Variance:\", variance)\n",
        "print(\"Standard Deviation:\", std_dev)"
      ],
      "metadata": {
        "colab": {
          "base_uri": "https://localhost:8080/"
        },
        "id": "ACLbyM91GuJt",
        "outputId": "9b811026-8662-4419-8279-a26d551f1112"
      },
      "execution_count": 34,
      "outputs": [
        {
          "output_type": "stream",
          "name": "stdout",
          "text": [
            "Variance: 209.38816326530616\n",
            "Standard Deviation: 14.47025097450995\n"
          ]
        },
        {
          "output_type": "stream",
          "name": "stderr",
          "text": [
            "<ipython-input-34-fcf37a93975f>:9: FutureWarning: Series.__getitem__ treating keys as positions is deprecated. In a future version, integer keys will always be treated as labels (consistent with DataFrame behavior). To access a value by position, use `ser.iloc[pos]`\n",
            "  variance = df.var()[0]\n",
            "<ipython-input-34-fcf37a93975f>:10: FutureWarning: Series.__getitem__ treating keys as positions is deprecated. In a future version, integer keys will always be treated as labels (consistent with DataFrame behavior). To access a value by position, use `ser.iloc[pos]`\n",
            "  std_dev = df.std()[0]\n"
          ]
        }
      ]
    },
    {
      "cell_type": "code",
      "source": [
        "# 23. Visualize skewness and kurtosis using Python libraries like matplotlib or seaborn.\n",
        "\n",
        "import numpy as np\n",
        "import pandas as pd\n",
        "import seaborn as sns\n",
        "import matplotlib.pyplot as plt\n",
        "from scipy.stats import skew, kurtosis\n",
        "\n",
        "data = np.random.randint(50, 100, 50)\n",
        "df = pd.DataFrame(data, columns=['Values'])\n",
        "\n",
        "sns.histplot(df['Values'], kde=True, bins=10)\n",
        "plt.title('Distribution of Values')\n",
        "plt.show()\n",
        "\n",
        "skewness = skew(df['Values'])\n",
        "kurt = kurtosis(df['Values'])\n",
        "\n",
        "print(\"Skewness:\", skewness)\n",
        "print(\"Kurtosis:\", kurt)"
      ],
      "metadata": {
        "colab": {
          "base_uri": "https://localhost:8080/",
          "height": 507
        },
        "id": "xQ3QtJ8DHEsB",
        "outputId": "39cb767d-31b6-4d74-eeb4-683fe73309ee"
      },
      "execution_count": 35,
      "outputs": [
        {
          "output_type": "display_data",
          "data": {
            "text/plain": [
              "<Figure size 640x480 with 1 Axes>"
            ],
            "image/png": "[encoded data removed]"
          },
          "metadata": {}
        },
        {
          "output_type": "stream",
          "name": "stdout",
          "text": [
            "Skewness: 0.005848445604744639\n",
            "Kurtosis: -1.1410102551211132\n"
          ]
        }
      ]
    },
    {
      "cell_type": "code",
      "source": [
        "#24.  Implement the Pearson and Spearman correlation coefficients for a dataset.\n",
        "\n",
        "import numpy as np\n",
        "import pandas as pd\n",
        "from scipy.stats import pearsonr, spearmanr\n",
        "\n",
        "data1 = np.random.randint(50, 100, 50)\n",
        "data2 = np.random.randint(30, 120, 50)\n",
        "\n",
        "df = pd.DataFrame({'Dataset 1': data1, 'Dataset 2': data2})\n",
        "\n",
        "pearson_corr, _ = pearsonr(df['Dataset 1'], df['Dataset 2'])\n",
        "spearman_corr, _ = spearmanr(df['Dataset 1'], df['Dataset 2'])\n",
        "\n",
        "print(\"Pearson Correlation:\", pearson_corr)\n",
        "print(\"Spearman Correlation:\", spearman_corr)"
      ],
      "metadata": {
        "colab": {
          "base_uri": "https://localhost:8080/"
        },
        "id": "vPHuFtLJHN5w",
        "outputId": "f2f06e62-6675-4e4a-9aaf-b5aa7a82a400"
      },
      "execution_count": 36,
      "outputs": [
        {
          "output_type": "stream",
          "name": "stdout",
          "text": [
            "Pearson Correlation: -0.048293880521300875\n",
            "Spearman Correlation: -0.05450963239370976\n"
          ]
        }
      ]
    },
    {
      "cell_type": "code",
      "source": [],
      "metadata": {
        "id": "WpJAsQx5HZ7a"
      },
      "execution_count": null,
      "outputs": []
    }
  ]
}